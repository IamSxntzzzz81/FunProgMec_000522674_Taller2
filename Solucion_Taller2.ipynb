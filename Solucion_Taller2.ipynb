{
  "nbformat": 4,
  "nbformat_minor": 0,
  "metadata": {
    "colab": {
      "provenance": [],
      "authorship_tag": "ABX9TyP7FvBOhPzfzCHqwluS4T2d",
      "include_colab_link": true
    },
    "kernelspec": {
      "name": "python3",
      "display_name": "Python 3"
    },
    "language_info": {
      "name": "python"
    }
  },
  "cells": [
    {
      "cell_type": "markdown",
      "metadata": {
        "id": "view-in-github",
        "colab_type": "text"
      },
      "source": [
        "<a href=\"https://colab.research.google.com/github/IamSxntzzzz81/FunProgMec_000522674_Taller2/blob/main/Solucion_Taller2.ipynb\" target=\"_parent\"><img src=\"https://colab.research.google.com/assets/colab-badge.svg\" alt=\"Open In Colab\"/></a>"
      ]
    },
    {
      "cell_type": "markdown",
      "source": [
        "## Taller 2\n",
        "## Fundamentos de Programación - Ingeniería Mecánica 202310\n",
        "Santiago José Niño Miranda \n",
        "id: 000522674"
      ],
      "metadata": {
        "id": "UqeSv204tedM"
      }
    },
    {
      "cell_type": "code",
      "execution_count": 14,
      "metadata": {
        "colab": {
          "base_uri": "https://localhost:8080/"
        },
        "id": "NhQVhfi_sCEb",
        "outputId": "c6660695-67c4-489c-8000-5055f3358c5c"
      },
      "outputs": [
        {
          "output_type": "stream",
          "name": "stdout",
          "text": [
            "Posición de una partícula\n",
            "3.0\n",
            "103.0\n"
          ]
        }
      ],
      "source": [
        "name = \"Posición de una partícula\"\n",
        "print(name)\n",
        "\n",
        "x_0 = 3\n",
        "v_0 = 5\n",
        "a = 6\n",
        "t_1 = 0\n",
        "t_2 = 5\n",
        "x1 = x_0 + (v_0 * t_1) + 1/2 * a * t_1 ** 2\n",
        "x2 = x_0 + (v_0 * t_2) + 1/2 * a * t_2 ** 2\n",
        "print(x1)\n",
        "print(x2)\n"
      ]
    },
    {
      "cell_type": "markdown",
      "source": [],
      "metadata": {
        "id": "RJWsZAgXwB9M"
      }
    },
    {
      "cell_type": "code",
      "source": [
        "name = \"Distancia entre 2 puntos\"\n",
        "print(name)\n",
        "\n",
        "x1 = 2\n",
        "y1 = 3\n",
        "x2 = -5\n",
        "y2 = 4\n",
        "\n",
        "d1 = (((x2 - x1) ** 2) + ((y2 - y1) ** 2)) ** 1/2\n",
        "print(d1)\n",
        "\n",
        "x1 = 0\n",
        "y1 = -2\n",
        "x2 = 6\n",
        "y2 = 1\n",
        "\n",
        "d2 = (x2 - x1) ** 2 + (y2 - y1) ** 2 ** 1/2\n",
        "print(d2)\n"
      ],
      "metadata": {
        "colab": {
          "base_uri": "https://localhost:8080/"
        },
        "id": "mp_I5lsJwGOs",
        "outputId": "4744a62b-6b1d-47b6-9aec-86c79118cd30"
      },
      "execution_count": 12,
      "outputs": [
        {
          "output_type": "stream",
          "name": "stdout",
          "text": [
            "Distancia entre 2 puntos\n",
            "25.0\n",
            "40.5\n"
          ]
        }
      ]
    },
    {
      "cell_type": "code",
      "source": [
        "name = \"Operaciones lógicas\"\n",
        "print(name)\n",
        "\n",
        "a = 5\n",
        "b = 2\n",
        "c = 3\n",
        "d = -2\n",
        "\n",
        "print(a > b)\n",
        "print(b <= c)\n",
        "print(a == b)\n",
        "print(b > c)\n",
        "print(a < c)\n",
        "print(c != b)\n",
        "print(a + d < c)\n",
        "print(d - c >= - a * b)\n",
        "print(c * a > 9)\n",
        "print(a * b + c > - d * 10)\n",
        "print(4 * b == c * 3)\n"
      ],
      "metadata": {
        "colab": {
          "base_uri": "https://localhost:8080/"
        },
        "id": "3Zc_2wdlwu8F",
        "outputId": "1d93c8a7-512f-4d6d-c3b7-079cb4b87686"
      },
      "execution_count": 17,
      "outputs": [
        {
          "output_type": "stream",
          "name": "stdout",
          "text": [
            "Operaciones lógicas\n",
            "True\n",
            "True\n",
            "False\n",
            "False\n",
            "False\n",
            "True\n",
            "False\n",
            "True\n",
            "True\n",
            "False\n",
            "False\n"
          ]
        }
      ]
    }
  ]
}