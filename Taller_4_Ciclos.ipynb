{
  "cells": [
    {
      "cell_type": "markdown",
      "id": "66beb5a1",
      "metadata": {
        "id": "66beb5a1"
      },
      "source": [
        "# Fundamentos de Programación para Ingeniería Mecánica\n",
        "## UPB Montería - 202310\n",
        "### Taller 4: Ciclos\n",
        "- Docente: Miguel Ortiz (miguel.ortizp@upb.edu.co)"
      ]
    },
    {
      "cell_type": "markdown",
      "id": "b4381f55",
      "metadata": {
        "id": "b4381f55"
      },
      "source": [
        "Datos del Estudiante:\n",
        "- Nombre: Santiago José Niño Miranda\n",
        "- ID: 000522674\n",
        "- email: santoninomiranda@gmail.com"
      ]
    },
    {
      "cell_type": "markdown",
      "id": "433f35a0",
      "metadata": {
        "id": "433f35a0"
      },
      "source": [
        "Resuelva los siguientes ejercicios utilizando estructuras cíclicas y condicionales."
      ]
    },
    {
      "cell_type": "markdown",
      "id": "aead929b",
      "metadata": {
        "id": "aead929b"
      },
      "source": [
        "### Problema 1: Suma de Elementos (30xp)\n",
        "\n",
        "Indique cuál de los dos números ingresados por el usuario tiene una suma de dígitos mayor y la diferencia de estas sumas. Si las sumas de los dígitos son iguales, infórmelo al usuario. \n",
        "\n",
        "**Ejemplo:**\n",
        "\n",
        "```\n",
        "Ingrese el primer número: 23672646\n",
        "Ingrese el segundo número: 12653686\n",
        "La suma de los elementos de la lista 2 es mayor que la suma de los elementos de la lista 1 en 1 unidades.\n",
        "```\n",
        "\n",
        "**Recomendación:** pruebe su algoritmo con listas de prueba:\n",
        "- `lst_1`: lista que representa el primer número. Por ejemplo: dígitos del número de su documento de identidad\n",
        "- `lst_2`: lista que representa el segundo número. Por ejemplo: dígitos del número de su id\n",
        "\n",
        "**Nota:** para leer un número ingresado por el usuario y convertirlo en lista puede utilizar las siguientes instrucciones:\n",
        "\n",
        "```python\n",
        "num = input('Número: ')\n",
        "lst = [int(x) for x in num]\n",
        "```"
      ]
    },
    {
      "cell_type": "code",
      "execution_count": 32,
      "id": "46b47e9b",
      "metadata": {
        "id": "46b47e9b",
        "colab": {
          "base_uri": "https://localhost:8080/"
        },
        "outputId": "51cc394b-4069-4dcb-aac0-4136ff6ca880"
      },
      "outputs": [
        {
          "output_type": "stream",
          "name": "stdout",
          "text": [
            "Por favor, ingrese un numero: 233\n",
            "Por favor, ingrese un segundo numero: 455\n",
            "el segundo numero es mayor\n",
            "la diferencia es de: 6\n"
          ]
        }
      ],
      "source": [
        "num = input(\"Por favor, ingrese un numero: \")\n",
        "num2 = input(\"Por favor, ingrese un segundo numero: \")\n",
        "lst = [int(x) for x in num]\n",
        "lst2 = [int(x) for x in num2]\n",
        "\n",
        "\n",
        "def sum_lst(lstr):\n",
        "    resultn = 0\n",
        "    for numbg in lstr:\n",
        "        resultn = resultn + numbg\n",
        "\n",
        "    return resultn\n",
        "\n",
        "def comparar(num_1, num_2):\n",
        "    if(num_1 > num_2):\n",
        "\n",
        "        difr = num_1 - num_2\n",
        "\n",
        "        print(\"el primer numero es mayor\")\n",
        "        print(\"la diferencia es de: \" + str(difr))\n",
        "\n",
        "    elif(num_1 < num_2):\n",
        "        difr = num_2 - num_1\n",
        "\n",
        "        print(\"el segundo numero es mayor\")\n",
        "        print(\"la diferencia es de: \" + str(difr))\n",
        "\n",
        "    elif(num_1 == num_2):\n",
        "        print(\"los numeros son iguales\")\n",
        "\n",
        "\n",
        "results1 = sum_lst(lst)\n",
        "results2 = sum_lst(lst2)\n",
        "\n",
        "comparar(results1, results2)"
      ]
    },
    {
      "cell_type": "code",
      "source": [
        "num = input('Número: ')\n",
        "lst = [int(x) for x in num]"
      ],
      "metadata": {
        "colab": {
          "base_uri": "https://localhost:8080/"
        },
        "id": "w969yDePTt5l",
        "outputId": "fc7c51cc-da21-4898-fec1-d64c3ccf85fc"
      },
      "id": "w969yDePTt5l",
      "execution_count": null,
      "outputs": [
        {
          "name": "stdout",
          "output_type": "stream",
          "text": [
            "Número: 454675464\n"
          ]
        }
      ]
    },
    {
      "cell_type": "markdown",
      "id": "986a4945",
      "metadata": {
        "id": "986a4945"
      },
      "source": [
        "### Problema 2: Suma Objetivo (50xp)\n",
        "\n",
        "Indique si la suma de los dígitos de un número de verificación alcanza un valor objetivo. Si obtiene el valor objetivo antes de finalizar el recorrido por todos los dígitos del número, indique la iteración en la que se obtuvo este valor. Tenga en cuenta que tanto el valor objetivo como el número de verificación son ingresados por el usuario. En cualquiera de los casos, muestre el resultado obtenido de la suma de los dígitos.\n",
        "\n",
        "**Ejemplo:**\n",
        "```\n",
        "Ingrese número de suma objetivo: 15\n",
        "Ingrese número para validar suma de dígitos: 1234562\n",
        "Suma obtenida en iteración 5 de 7\n",
        "Resultado obtenido: 15\n",
        "Alcanzó el valor objetivo.\n",
        "```\n",
        "\n",
        "**Recomendación:** pruebe su algoritmo con números y listas de prueba:\n",
        "- `n_obj`: valor objetivo\n",
        "- `lst`: lista que representa el número de verificación. Por ejemplo: dígitos del número de su id\n",
        "\n",
        "**Nota:** para leer un número ingresado por el usuario y convertirlo en lista puede utilizar las siguientes instrucciones:\n",
        "\n",
        "```python\n",
        "num = input('Número: ')\n",
        "lst = [int(x) for x in num]\n",
        "```"
      ]
    },
    {
      "cell_type": "code",
      "execution_count": 34,
      "id": "895f4399",
      "metadata": {
        "colab": {
          "base_uri": "https://localhost:8080/"
        },
        "id": "895f4399",
        "outputId": "a92361ea-d0d8-483b-ccf1-2ccaecc4a666"
      },
      "outputs": [
        {
          "output_type": "stream",
          "name": "stdout",
          "text": [
            "Ingrese el número de verificación: 45646\n",
            "Ingrese el valor objetivo: 64534\n",
            "No se alcanzó el valor objetivo. La suma final es de 25\n"
          ]
        }
      ],
      "source": [
        "num_verif = input(\"Ingrese el número de verificación: \")\n",
        "valor_obj = int(input(\"Ingrese el valor objetivo: \"))\n",
        "\n",
        "lst1 = [int(x) for x in num_verif]\n",
        "\n",
        "suma_dig = 0\n",
        "iteracion = 1\n",
        "\n",
        "for digito in lst1:\n",
        "    suma_dig += digito\n",
        "    \n",
        "    if suma_dig >= valor_obj:\n",
        "        print(f\"Se alcanzó el valor objetivo en la iteración {iteracion} con una suma de {suma_dig}\")\n",
        "        break\n",
        "    \n",
        "    iteracion += 1\n",
        "\n",
        "if suma_dig < valor_obj:\n",
        "    print(f\"No se alcanzó el valor objetivo. La suma final es de {suma_dig}\")"
      ]
    },
    {
      "cell_type": "markdown",
      "id": "0b532b9b",
      "metadata": {
        "id": "0b532b9b"
      },
      "source": [
        "### Problema 3: Dígito Mayor (40xp)\n",
        "\n",
        "Indique el dígito de mayor valor y su posición en un número ingresado por el usuario. En caso de que el dígito mayor se repita, se debe retornar el índice del primero de ellos que fue encontrado. \n",
        "\n",
        "**Ejemplo:**\n",
        "\n",
        "```\n",
        "Ingrese número: 123753569054\n",
        "El dígito mayor de la lista es 9\n",
        "El número se encontró en la posición 8\n",
        "```\n",
        "\n",
        "**Recomendación:** pruebe su algoritmo con listas de prueba:\n",
        "- `lst`: lista que representa el número a evaluar. Por ejemplo: dígitos del número de su documento de identidad\n",
        "\n",
        "**Nota:** para leer un número ingresado por el usuario y convertirlo en lista puede utilizar las siguientes instrucciones:\n",
        "\n",
        "```python\n",
        "num = input('Número: ')\n",
        "lst = [int(x) for x in num]\n",
        "```"
      ]
    },
    {
      "cell_type": "code",
      "execution_count": 35,
      "id": "9159f388",
      "metadata": {
        "scrolled": true,
        "id": "9159f388",
        "colab": {
          "base_uri": "https://localhost:8080/"
        },
        "outputId": "f66fb730-4ba8-49df-828b-7a9a7c859d89"
      },
      "outputs": [
        {
          "output_type": "stream",
          "name": "stdout",
          "text": [
            "Ingrese un número: 33423\n",
            "El número mayor es 4 y se encuentra en la posición 0\n"
          ]
        }
      ],
      "source": [
        "num = input(\"Ingrese un número: \")\n",
        "lst1 = [int(x) for x in num]\n",
        "\n",
        "mayor = lst1[0]\n",
        "pos_mayor = 0\n",
        "i = 0\n",
        "for actual in lst1:\n",
        "    if actual > mayor:\n",
        "        mayor = actual\n",
        "        pos_mayor = i\n",
        "    \n",
        "print(f\"El número mayor es {mayor} y se encuentra en la posición {pos_mayor}\")"
      ]
    },
    {
      "cell_type": "markdown",
      "id": "03af9108",
      "metadata": {
        "id": "03af9108"
      },
      "source": [
        "### Problema 4: Valores que coinciden (50xp)\n",
        "\n",
        "Indique las posiciones (índices) en los cuales se encuentran los mismos valores de los dígitos en dos números ingresados por el usuario. El algoritmo debe verificar que los números tengan la misma longitud (igual número de dígitos). Si ninguno de los dígitos de los números coincide, también debe informarlo al usuario. \n",
        "\n",
        "**Ejemplo:**\n",
        "\n",
        "```\n",
        "Ingrese el primer número: 124646272\n",
        "Ingrese el segundo número: 354849136\n",
        "Los números tienen 2 dígitos(s) en común en la(s) posición(es): [2, 4]\n",
        "```\n",
        "\n",
        "**Recomendación:** pruebe su algoritmo con listas de prueba:\n",
        "- `lst_1`: lista que representa el primer número. \n",
        "- `lst_2`: lista que representa el segundo número. \n",
        "\n",
        "**Nota:** para leer un número ingresado por el usuario y convertirlo en lista puede utilizar las siguientes instrucciones:\n",
        "\n",
        "```python\n",
        "num = input('Número: ')\n",
        "lst = [int(x) for x in num]\n",
        "```"
      ]
    },
    {
      "cell_type": "code",
      "source": [
        "num1 = input(\"Ingrese el primer número: \")\n",
        "num2 = input(\"Ingrese el segundo número: \")\n",
        "\n",
        "if len(num1) != len(num2):\n",
        "  print(\"Los números no tienen la misma longitud\")\n",
        "else:\n",
        "  indices_coincidentes = []\n",
        "  for i in range(len(num1)):\n",
        "    if num1[i] == num2[i]:\n",
        "      indices_coincidentes.append(i)\n",
        "\n",
        "if len(indices_coincidentes) == 0:\n",
        "  print(\"No hay digitos coincidentes entre los números ingresados\")\n",
        "else:\n",
        "  print(\"Las posiciones en las cuales se encuentran los mismos valores de los digitos son:\", indices_coincidentes)"
      ],
      "metadata": {
        "id": "RYz85UalKovE",
        "colab": {
          "base_uri": "https://localhost:8080/"
        },
        "outputId": "712bfe60-2099-4c58-d45f-2213396e7a2f"
      },
      "id": "RYz85UalKovE",
      "execution_count": 31,
      "outputs": [
        {
          "output_type": "stream",
          "name": "stdout",
          "text": [
            "Ingrese el primer número: 3345\n",
            "Ingrese el segundo número: 2245\n",
            "Las posiciones en las cuales se encuentran los mismos valores de los digitos son: [2, 3]\n"
          ]
        }
      ]
    }
  ],
  "metadata": {
    "kernelspec": {
      "display_name": "Python 3 (ipykernel)",
      "language": "python",
      "name": "python3"
    },
    "language_info": {
      "codemirror_mode": {
        "name": "ipython",
        "version": 3
      },
      "file_extension": ".py",
      "mimetype": "text/x-python",
      "name": "python",
      "nbconvert_exporter": "python",
      "pygments_lexer": "ipython3",
      "version": "3.10.6"
    },
    "colab": {
      "provenance": []
    }
  },
  "nbformat": 4,
  "nbformat_minor": 5
}